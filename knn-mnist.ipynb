{
 "metadata": {
  "language_info": {
   "codemirror_mode": {
    "name": "ipython",
    "version": 3
   },
   "file_extension": ".py",
   "mimetype": "text/x-python",
   "name": "python",
   "nbconvert_exporter": "python",
   "pygments_lexer": "ipython3",
   "version": "3.9.0-final"
  },
  "orig_nbformat": 2,
  "kernelspec": {
   "name": "python3",
   "display_name": "Python 3.9.0 64-bit",
   "metadata": {
    "interpreter": {
     "hash": "7812ea015bdcee6f23a998adcdd2ef97c151c0c241b7b7070987d9313e41299d"
    }
   }
  }
 },
 "nbformat": 4,
 "nbformat_minor": 2,
 "cells": [
  {
   "source": [
    "# K-Nearest Neighbour with MNIST Dataset\n",
    "## custom k-nearest neighbour implementation — @psrth, 22.11.20"
   ],
   "cell_type": "markdown",
   "metadata": {}
  },
  {
   "cell_type": "code",
   "execution_count": 9,
   "metadata": {},
   "outputs": [],
   "source": [
    "# importing libraries\n",
    "import numpy as np\n",
    "import csv\n",
    "import operator"
   ]
  },
  {
   "cell_type": "code",
   "execution_count": 10,
   "metadata": {},
   "outputs": [],
   "source": [
    "# function to return the euclidean distance for two parameter instances\n",
    "# formula used: https://en.wikipedia.org/wiki/Euclidean_distance\n",
    "\n",
    "def euc_dist(inst_1, inst_2, length):\n",
    "    distance = 0\n",
    "\n",
    "    for i in range(length - 1):\n",
    "        distance += (inst_1[i] - inst_2[i]) ** 2\n",
    "    \n",
    "    euc_distance = distance ** (0.5)\n",
    "    return euc_distance"
   ]
  },
  {
   "cell_type": "code",
   "execution_count": 11,
   "metadata": {},
   "outputs": [],
   "source": [
    "# function to return the best neighbour based on k, euc_dist\n",
    "def knnBestNeighbour(training_array, current_instance, k):\n",
    "\n",
    "    # creating an array that stores the distance of all neighbours from the current instance under examination\n",
    "    neighbour_distances = []\n",
    "\n",
    "\n",
    "    # iteratively finding distances of current instance from instances from the training array\n",
    "    for i in range(len(training_array)):\n",
    "        neighbour_distance = euc_dist(current_instance, training_array[i, 1:785], len(current_instance))\n",
    "        neighbour_distances.append((training_array[i], neighbour_distance))\n",
    "    \n",
    "\n",
    "    # sorting the distances, and then extracting the closest 'k' neighbours\n",
    "    neighbour_distances.sort(key = operator.itemgetter(1))\n",
    "\n",
    "    knearest_neighbours = []\n",
    "    for i in range(k):\n",
    "        knearest_neighbours.append(neighbour_distances[i][0])\n",
    "\n",
    "\n",
    "    # finding the neighbour that occurs the most in k-nearest set\n",
    "    neighbour_count = {}\n",
    "\n",
    "    for x in range(len(knearest_neighbours)):\n",
    "        occurrence = knearest_neighbours[x][0]\n",
    "        if occurrence in neighbour_count:\n",
    "            neighbour_count[occurrence] += 1\n",
    "        else:\n",
    "            neighbour_count[occurrence] = 1 \n",
    "\n",
    "\n",
    "    # returning the neighbour that has maximum frequency of occurence     \n",
    "    knn_best_neighbour = sorted(neighbour_count.items(), key = operator.itemgetter(1), reverse = True)\n",
    "    return knn_best_neighbour[0][0]"
   ]
  },
  {
   "cell_type": "code",
   "execution_count": 12,
   "metadata": {},
   "outputs": [],
   "source": [
    "def main():\n",
    "\n",
    "    # loading the training data CSV file\n",
    "    with open('mnist_train.csv', newline='') as csv_file1:\n",
    "    \n",
    "        train_data_lines = csv.reader(csv_file1)\n",
    "        train_dataset=list(train_data_lines) \n",
    "        \n",
    "        # converting list into numpy array\n",
    "        train_array=np.array(train_dataset).astype(\"int\")\n",
    "    \n",
    "    with open('mnist_test.csv', newline='') as csv_file2:\n",
    "    \n",
    "        test_data_lines = csv.reader(csv_file2)\n",
    "        test_dataset=list(test_data_lines)\n",
    "        \n",
    "        # converting list into numpy array\n",
    "        test_array=np.array(test_dataset).astype(\"int\")\n",
    "\n",
    "\n",
    "    # list to store the predicted values\n",
    "    predictions=[]   \n",
    "\n",
    "    # uncomment to allow terminal based 'k' setting\n",
    "    # k = int(input(\"Enter the value for 'k': \"))\n",
    "\n",
    "    # currently setting k as 3 for noise and computation power balance \n",
    "    # anything greater than 3 is crashing my laptop F\n",
    "    k = 3\n",
    "\n",
    "\n",
    "    # each test instance computation\n",
    "    for i in range(len(test_dataset)):\n",
    "        # finding the k-best neighbour\n",
    "        result = knnBestNeighbour(train_array, test_array[i], k)\n",
    "        \n",
    "        # printing the result of each computation with max info\n",
    "        # TODO: add a graphical thing after NN\n",
    "        predictions.append(result)\n",
    "        print(\"CASE #\" +repr(i+1))\n",
    "        print(\"Prediction: \"+ repr(result))\n",
    "        print(\"Actual Value: \" +repr(test_array[i,0]))\n",
    "        print(\"SUCCESS\") if (repr(result) == repr(test_array[i,0])) else print(\"FAIL\")\n",
    "        print(\"-------------------\")\n",
    "    \n",
    "\n",
    "    # calculting accuracy after all computations\n",
    "    successful_cases = 0\n",
    "    for i in range(len(test_array)):\n",
    "    \tif test_array[i][0] == predictions[i]:\n",
    "    \t\tsuccessful_cases += 1\n",
    "    accuracy = (successful_cases / float(len(test_array))) * 100.0\n",
    "    \n",
    "\n",
    "    # final print statements\n",
    "    print(\"--------------------------\")\n",
    "    print(\"@psrth's first KNN solution maxxed out at:\")\n",
    "    print(\"--------------------------\")\n",
    "    print('Accuracy: ' + repr(accuracy) + '%')\n",
    "    print(\"Value of k used: \" +k)\n",
    "    print(\"--------------------------\")\n"
   ]
  },
  {
   "cell_type": "code",
   "execution_count": null,
   "metadata": {},
   "outputs": [],
   "source": [
    "main()"
   ]
  }
 ]
}